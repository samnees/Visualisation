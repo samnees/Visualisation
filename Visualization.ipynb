{
  "nbformat": 4,
  "nbformat_minor": 0,
  "metadata": {
    "colab": {
      "name": "Visualization.ipynb",
      "provenance": [],
      "collapsed_sections": [],
      "include_colab_link": true
    },
    "kernelspec": {
      "name": "python3",
      "display_name": "Python 3"
    }
  },
  "cells": [
    {
      "cell_type": "markdown",
      "metadata": {
        "id": "view-in-github",
        "colab_type": "text"
      },
      "source": [
        "<a href=\"https://colab.research.google.com/github/samnees/Visualisation/blob/main/Visualization.ipynb\" target=\"_parent\"><img src=\"https://colab.research.google.com/assets/colab-badge.svg\" alt=\"Open In Colab\"/></a>"
      ]
    },
    {
      "cell_type": "code",
      "metadata": {
        "id": "2eCM_Wv0Vzrg",
        "colab": {
          "base_uri": "https://localhost:8080/"
        },
        "outputId": "4ff93158-ac5e-4103-bfc1-612730d410cf"
      },
      "source": [
        "#Import the important stuff\n",
        "import pandas as pd\n",
        "import numpy as np\n",
        "#Install dash\n",
        "!pip install dash==1.17.0"
      ],
      "execution_count": null,
      "outputs": [
        {
          "output_type": "stream",
          "text": [
            "Requirement already satisfied: dash==1.17.0 in /usr/local/lib/python3.6/dist-packages (1.17.0)\n",
            "Requirement already satisfied: dash-core-components==1.13.0 in /usr/local/lib/python3.6/dist-packages (from dash==1.17.0) (1.13.0)\n",
            "Requirement already satisfied: plotly in /usr/local/lib/python3.6/dist-packages (from dash==1.17.0) (4.4.1)\n",
            "Requirement already satisfied: dash-table==4.11.0 in /usr/local/lib/python3.6/dist-packages (from dash==1.17.0) (4.11.0)\n",
            "Requirement already satisfied: Flask>=1.0.2 in /usr/local/lib/python3.6/dist-packages (from dash==1.17.0) (1.1.2)\n",
            "Requirement already satisfied: dash-renderer==1.8.3 in /usr/local/lib/python3.6/dist-packages (from dash==1.17.0) (1.8.3)\n",
            "Requirement already satisfied: flask-compress in /usr/local/lib/python3.6/dist-packages (from dash==1.17.0) (1.8.0)\n",
            "Requirement already satisfied: dash-html-components==1.1.1 in /usr/local/lib/python3.6/dist-packages (from dash==1.17.0) (1.1.1)\n",
            "Requirement already satisfied: future in /usr/local/lib/python3.6/dist-packages (from dash==1.17.0) (0.16.0)\n",
            "Requirement already satisfied: six in /usr/local/lib/python3.6/dist-packages (from plotly->dash==1.17.0) (1.15.0)\n",
            "Requirement already satisfied: retrying>=1.3.3 in /usr/local/lib/python3.6/dist-packages (from plotly->dash==1.17.0) (1.3.3)\n",
            "Requirement already satisfied: itsdangerous>=0.24 in /usr/local/lib/python3.6/dist-packages (from Flask>=1.0.2->dash==1.17.0) (1.1.0)\n",
            "Requirement already satisfied: click>=5.1 in /usr/local/lib/python3.6/dist-packages (from Flask>=1.0.2->dash==1.17.0) (7.1.2)\n",
            "Requirement already satisfied: Werkzeug>=0.15 in /usr/local/lib/python3.6/dist-packages (from Flask>=1.0.2->dash==1.17.0) (1.0.1)\n",
            "Requirement already satisfied: Jinja2>=2.10.1 in /usr/local/lib/python3.6/dist-packages (from Flask>=1.0.2->dash==1.17.0) (2.11.2)\n",
            "Requirement already satisfied: brotli in /usr/local/lib/python3.6/dist-packages (from flask-compress->dash==1.17.0) (1.0.9)\n",
            "Requirement already satisfied: MarkupSafe>=0.23 in /usr/local/lib/python3.6/dist-packages (from Jinja2>=2.10.1->Flask>=1.0.2->dash==1.17.0) (1.1.1)\n"
          ],
          "name": "stdout"
        }
      ]
    },
    {
      "cell_type": "code",
      "metadata": {
        "id": "ULvYqf4nS4Im"
      },
      "source": [
        "# Download both datasets and save them\n",
        "url = 'https://github.com/samnees/Visualisation/raw/main/StudentsPerformance.csv'\n",
        "url2 = 'https://github.com/samnees/Visualisation/blob/main/dataset.xlsx?raw=true'\n",
        "df = pd.read_csv(url)\n",
        "df2 = pd.read_excel(url2)"
      ],
      "execution_count": null,
      "outputs": []
    },
    {
      "cell_type": "code",
      "metadata": {
        "colab": {
          "base_uri": "https://localhost:8080/"
        },
        "id": "UtmKG4o0hkD3",
        "outputId": "c8bf4880-53af-4488-d5bd-6754e90f309e"
      },
      "source": [
        "#Make sure that the colab specific code will be used\n",
        "running_in_colab = True\n",
        "# Install ngrok A.K.A firewall breaker\n",
        "!pip install ngrok\n",
        "# Penetrate the firewall of google colab and free the port 8050 for dash.\n",
        "get_ipython().system_raw('./ngrok http 8050 &')\n",
        "# P.S. Ignore the ERROR; it's nothing"
      ],
      "execution_count": null,
      "outputs": [
        {
          "output_type": "stream",
          "text": [
            "Collecting ngrok\n",
            "  Using cached https://files.pythonhosted.org/packages/67/50/c64abd519f50537df4726bc2572862d1925e377d4a80a9c06e70db048682/ngrok-0.1.6.tar.gz\n",
            "Collecting ping\n",
            "  Using cached https://files.pythonhosted.org/packages/03/ac/9a3f332f8d7d27cd8929922b2e225842c1623760364b37fc79dc0f65e77d/ping-0.2.tar.gz\n",
            "\u001b[31mERROR: Command errored out with exit status 1: python setup.py egg_info Check the logs for full command output.\u001b[0m\n"
          ],
          "name": "stdout"
        }
      ]
    },
    {
      "cell_type": "code",
      "metadata": {
        "colab": {
          "base_uri": "https://localhost:8080/"
        },
        "id": "Qyb5VWfjpKXO",
        "outputId": "b2db897d-aa48-4c2c-d29e-2c280fdde731"
      },
      "source": [
        "!pip install jupyter-dash\n",
        "from jupyter_dash import JupyterDash"
      ],
      "execution_count": null,
      "outputs": [
        {
          "output_type": "stream",
          "text": [
            "Requirement already satisfied: jupyter-dash in /usr/local/lib/python3.6/dist-packages (0.3.1)\n",
            "Requirement already satisfied: ansi2html in /usr/local/lib/python3.6/dist-packages (from jupyter-dash) (1.6.0)\n",
            "Requirement already satisfied: flask in /usr/local/lib/python3.6/dist-packages (from jupyter-dash) (1.1.2)\n",
            "Requirement already satisfied: dash in /usr/local/lib/python3.6/dist-packages (from jupyter-dash) (1.17.0)\n",
            "Requirement already satisfied: ipython in /usr/local/lib/python3.6/dist-packages (from jupyter-dash) (5.5.0)\n",
            "Requirement already satisfied: retrying in /usr/local/lib/python3.6/dist-packages (from jupyter-dash) (1.3.3)\n",
            "Requirement already satisfied: requests in /usr/local/lib/python3.6/dist-packages (from jupyter-dash) (2.23.0)\n",
            "Requirement already satisfied: ipykernel in /usr/local/lib/python3.6/dist-packages (from jupyter-dash) (4.10.1)\n",
            "Requirement already satisfied: Jinja2>=2.10.1 in /usr/local/lib/python3.6/dist-packages (from flask->jupyter-dash) (2.11.2)\n",
            "Requirement already satisfied: click>=5.1 in /usr/local/lib/python3.6/dist-packages (from flask->jupyter-dash) (7.1.2)\n",
            "Requirement already satisfied: Werkzeug>=0.15 in /usr/local/lib/python3.6/dist-packages (from flask->jupyter-dash) (1.0.1)\n",
            "Requirement already satisfied: itsdangerous>=0.24 in /usr/local/lib/python3.6/dist-packages (from flask->jupyter-dash) (1.1.0)\n",
            "Requirement already satisfied: plotly in /usr/local/lib/python3.6/dist-packages (from dash->jupyter-dash) (4.4.1)\n",
            "Requirement already satisfied: dash-core-components==1.13.0 in /usr/local/lib/python3.6/dist-packages (from dash->jupyter-dash) (1.13.0)\n",
            "Requirement already satisfied: future in /usr/local/lib/python3.6/dist-packages (from dash->jupyter-dash) (0.16.0)\n",
            "Requirement already satisfied: dash-renderer==1.8.3 in /usr/local/lib/python3.6/dist-packages (from dash->jupyter-dash) (1.8.3)\n",
            "Requirement already satisfied: dash-table==4.11.0 in /usr/local/lib/python3.6/dist-packages (from dash->jupyter-dash) (4.11.0)\n",
            "Requirement already satisfied: dash-html-components==1.1.1 in /usr/local/lib/python3.6/dist-packages (from dash->jupyter-dash) (1.1.1)\n",
            "Requirement already satisfied: flask-compress in /usr/local/lib/python3.6/dist-packages (from dash->jupyter-dash) (1.8.0)\n",
            "Requirement already satisfied: setuptools>=18.5 in /usr/local/lib/python3.6/dist-packages (from ipython->jupyter-dash) (50.3.2)\n",
            "Requirement already satisfied: pickleshare in /usr/local/lib/python3.6/dist-packages (from ipython->jupyter-dash) (0.7.5)\n",
            "Requirement already satisfied: pygments in /usr/local/lib/python3.6/dist-packages (from ipython->jupyter-dash) (2.6.1)\n",
            "Requirement already satisfied: decorator in /usr/local/lib/python3.6/dist-packages (from ipython->jupyter-dash) (4.4.2)\n",
            "Requirement already satisfied: pexpect; sys_platform != \"win32\" in /usr/local/lib/python3.6/dist-packages (from ipython->jupyter-dash) (4.8.0)\n",
            "Requirement already satisfied: simplegeneric>0.8 in /usr/local/lib/python3.6/dist-packages (from ipython->jupyter-dash) (0.8.1)\n",
            "Requirement already satisfied: prompt-toolkit<2.0.0,>=1.0.4 in /usr/local/lib/python3.6/dist-packages (from ipython->jupyter-dash) (1.0.18)\n",
            "Requirement already satisfied: traitlets>=4.2 in /usr/local/lib/python3.6/dist-packages (from ipython->jupyter-dash) (4.3.3)\n",
            "Requirement already satisfied: six>=1.7.0 in /usr/local/lib/python3.6/dist-packages (from retrying->jupyter-dash) (1.15.0)\n",
            "Requirement already satisfied: certifi>=2017.4.17 in /usr/local/lib/python3.6/dist-packages (from requests->jupyter-dash) (2020.11.8)\n",
            "Requirement already satisfied: urllib3!=1.25.0,!=1.25.1,<1.26,>=1.21.1 in /usr/local/lib/python3.6/dist-packages (from requests->jupyter-dash) (1.24.3)\n",
            "Requirement already satisfied: idna<3,>=2.5 in /usr/local/lib/python3.6/dist-packages (from requests->jupyter-dash) (2.10)\n",
            "Requirement already satisfied: chardet<4,>=3.0.2 in /usr/local/lib/python3.6/dist-packages (from requests->jupyter-dash) (3.0.4)\n",
            "Requirement already satisfied: jupyter-client in /usr/local/lib/python3.6/dist-packages (from ipykernel->jupyter-dash) (5.3.5)\n",
            "Requirement already satisfied: tornado>=4.0 in /usr/local/lib/python3.6/dist-packages (from ipykernel->jupyter-dash) (5.1.1)\n",
            "Requirement already satisfied: MarkupSafe>=0.23 in /usr/local/lib/python3.6/dist-packages (from Jinja2>=2.10.1->flask->jupyter-dash) (1.1.1)\n",
            "Requirement already satisfied: brotli in /usr/local/lib/python3.6/dist-packages (from flask-compress->dash->jupyter-dash) (1.0.9)\n",
            "Requirement already satisfied: ptyprocess>=0.5 in /usr/local/lib/python3.6/dist-packages (from pexpect; sys_platform != \"win32\"->ipython->jupyter-dash) (0.6.0)\n",
            "Requirement already satisfied: wcwidth in /usr/local/lib/python3.6/dist-packages (from prompt-toolkit<2.0.0,>=1.0.4->ipython->jupyter-dash) (0.2.5)\n",
            "Requirement already satisfied: ipython-genutils in /usr/local/lib/python3.6/dist-packages (from traitlets>=4.2->ipython->jupyter-dash) (0.2.0)\n",
            "Requirement already satisfied: python-dateutil>=2.1 in /usr/local/lib/python3.6/dist-packages (from jupyter-client->ipykernel->jupyter-dash) (2.8.1)\n",
            "Requirement already satisfied: jupyter-core>=4.6.0 in /usr/local/lib/python3.6/dist-packages (from jupyter-client->ipykernel->jupyter-dash) (4.7.0)\n",
            "Requirement already satisfied: pyzmq>=13 in /usr/local/lib/python3.6/dist-packages (from jupyter-client->ipykernel->jupyter-dash) (20.0.0)\n"
          ],
          "name": "stdout"
        }
      ]
    },
    {
      "cell_type": "code",
      "metadata": {
        "id": "dMJSJFzhWUqz",
        "colab": {
          "base_uri": "https://localhost:8080/",
          "height": 51
        },
        "outputId": "535f4488-d8b0-4843-ee94-a471f930b939"
      },
      "source": [
        "#Code in this block is responsible for dashboard\n",
        "\n",
        "#Important check to know when this is run in colab\n",
        "try:\n",
        "    running_in_colab\n",
        "except NameError:\n",
        "    running_in_colab = False\n",
        "\n",
        "#Important to import all libraries for the dashboard\n",
        "import pandas as pd\n",
        "import plotly.express as px\n",
        "import dash\n",
        "import dash_core_components as dcc\n",
        "import dash_html_components as html\n",
        "import plotly.graph_objects as go\n",
        "from dash.dependencies import Input, Output\n",
        "\n",
        "#Downloading and saving the dataset\n",
        "url = 'https://github.com/samnees/Visualisation/raw/main/StudentsPerformance.csv'\n",
        "df = pd.read_csv(url)\n",
        "\n",
        "#Preprocessing\n",
        "df.replace(['female', 'male'], [1,0], inplace=True)\n",
        "df.replace(['standard', 'free/reduced'], [0, 1], inplace=True)\n",
        "df.replace(['none', 'completed'], [0, 1], inplace=True)\n",
        "df.replace(['some college', \"associate's degree\",\n",
        "            'high school', 'some high school',\n",
        "            \"bachelor's degree\", \"master's degree\"], [0, 1, 2, 3, 4, 5], inplace=True)\n",
        "df['average score'] = (df['math score'] + df['reading score'] + df['writing score'])/3\n",
        "\n",
        "cols_list = []\n",
        "for col in df.columns:\n",
        "    if col != 'race/ethnicity':\n",
        "        cols_list.append({'label': col, 'value': col})\n",
        "\n",
        "if running_in_colab:\n",
        "    app = JupyterDash(__name__)\n",
        "else:\n",
        "    app = dash.Dash()\n",
        "\n",
        "colors = {  \n",
        "\n",
        "    'background': '#111111',\n",
        "\n",
        "    'text': '#7FDBFF'\n",
        "\n",
        "}\n",
        "\n",
        "app.layout = html.Div([\n",
        "\n",
        "    #First row [top]\n",
        "    html.Div([\n",
        "\n",
        "        #First column (choosing attributes) [top left]\n",
        "        html.Div([\n",
        "            dcc.Markdown('''\n",
        "            ### **Choose what you want to plot**\n",
        "            '''),\n",
        "\n",
        "            dcc.Dropdown(\n",
        "                id='dd-menu-x',\n",
        "                options=cols_list,\n",
        "                value=df.columns[0],\n",
        "                multi = True  \n",
        "            ),\n",
        "\n",
        "\n",
        "        ],style={'padding-left':'1.5%', 'padding-right':'0.5%',\"width\":\"31.333%\",\n",
        "                 \"display\":\"inline-block\",\"background\":\"lightgreen\",\n",
        "                 \"padding-top\":\"0%\", \"padding-bottom\":\"1%\"}),\n",
        "\n",
        "        #Second column [top center]\n",
        "        html.Div([\n",
        "\n",
        "            dcc.Markdown('''\n",
        "            ### **Column 2**\n",
        "            '''),\n",
        "\n",
        "            dcc.Dropdown(\n",
        "                id='dd-menu-3',\n",
        "                options=[{'label':'x','value':'x'}],\n",
        "                value=df.columns[0]\n",
        "            ),\n",
        "\n",
        "            dcc.Dropdown(\n",
        "                id='dd-menu-4',\n",
        "                options=[{'label':'y','value':'y'}],\n",
        "                value=df.columns[0]\n",
        "            )\n",
        "\n",
        "        ],style={'padding-left':'1%', 'padding-right':'1%',\"width\":\"31.333%\",\n",
        "                 \"display\":\"inline-block\",\"background\":\"lightgreen\",\n",
        "                 \"padding-top\":\"0%\", \"padding-bottom\":\"1%\"}),\n",
        "\n",
        "        #Third column [top right]\n",
        "        html.Div([\n",
        "\n",
        "            dcc.Markdown('''\n",
        "            ### **Column 3**\n",
        "            '''),\n",
        "\n",
        "            dcc.Dropdown(\n",
        "                id='dd-menu-5',\n",
        "                options=[{'label':'x','value':'x'}],\n",
        "                value=df.columns[0]\n",
        "            ),\n",
        "\n",
        "            dcc.Dropdown(\n",
        "                id='dd-menu-6',\n",
        "                options=[{'label':'y','value':'y'}],\n",
        "                value=df.columns[0]\n",
        "            )\n",
        "\n",
        "        ],style={'padding-left':'0.5%', 'padding-right':'1.5%',\"width\":\"31.333%\",\n",
        "                 \"display\":\"inline-block\",\"background\":\"lightgreen\",\n",
        "                 \"padding-top\":\"0%\", \"padding-bottom\":\"1%\"})\n",
        "\n",
        "    ], style={\"display\":\"block\",\"background\":\"green\"}),\n",
        "\n",
        "\n",
        "\n",
        "    #Second row [bottom]\n",
        "    html.Div([\n",
        "\n",
        "        #First column [bottom left]\n",
        "        html.Div([\n",
        "\n",
        "            dcc.Markdown('''\n",
        "            ### **Column 4**\n",
        "            '''),\n",
        "\n",
        "            dcc.Dropdown(\n",
        "                id='dd-menu-7',\n",
        "                options=[{'label':'x','value':'x'}],\n",
        "                value=df.columns[0]\n",
        "            ),\n",
        "\n",
        "            dcc.Dropdown(\n",
        "                id='dd-menu-8',\n",
        "                options=[{'label':'y','value':'y'}],\n",
        "                value=df.columns[0]\n",
        "            ),\n",
        "\n",
        "            #Bonus content\n",
        "            html.Div([\n",
        "                dcc.Graph(\n",
        "                id='histogram1'\n",
        "            )],style={\"background\":\"lightgreen\", \"padding-top\":\"2%\",\n",
        "                      \"padding-bottom\":\"0%\"}),\n",
        "\n",
        "            html.Div([\n",
        "                dcc.Graph(\n",
        "                id='histogram2'\n",
        "            )],style={\"background\":\"lightgreen\", \"padding-top\":\"2%\",\n",
        "                      \"padding-bottom\":\"1.5%\"})\n",
        "\n",
        "        ],style={'padding-left':'1.5%', 'padding-right':'0.5%',\"width\":\"31.333%\",\n",
        "                 \"display\":\"inline-block\",\"background\":\"lightgreen\",\n",
        "                 \"padding-top\":\"0%\", \"padding-bottom\":\"1%\", 'vertical-align': 'top'}),\n",
        "\n",
        "        #Second column (plot) [bottom right]\n",
        "        html.Div([\n",
        "            dcc.Graph(\n",
        "                id='main-comparison'\n",
        "            )\n",
        "        ],style={'padding-left':'1%', 'padding-right':'1.5%',\"width\":\"64.166%\",\n",
        "                 \"display\":\"inline-block\",\"background\":\"lightgreen\",\n",
        "                 \"padding-top\":\"0%\", \"padding-bottom\":\"1%\", 'vertical-align': 'top'})\n",
        "\n",
        "    ], style={\"display\":\"block\", \"background\":\"green\"})\n",
        "\n",
        "])\n",
        "\n",
        "@app.callback(\n",
        "    dash.dependencies.Output('main-comparison', 'figure'),\n",
        "    [dash.dependencies.Input('dd-menu-x', 'value'),\n",
        "     dash.dependencies.Input('dd-menu-x', df.columns[0]='value')])\n",
        "def update_output(selection1, selection2):\n",
        "    print('You have selected \"{}\", \"{}\"'.format(selection1,\n",
        "                                                selection2))\n",
        "    figure={\n",
        "        'data': [\n",
        "            go.Scatter(\n",
        "                x=df[selection1],\n",
        "                y=df[selection2],\n",
        "\n",
        "                mode='markers',\n",
        "\n",
        "                opacity=0.8,\n",
        "\n",
        "                marker={\n",
        "\n",
        "                    'size': 15,\n",
        "\n",
        "                    'line': {'width': 0.5, 'color': 'white'}\n",
        "\n",
        "                },\n",
        "\n",
        "                #name=selection\n",
        "\n",
        "            ) for i in [1]\n",
        "\n",
        "        ],\n",
        "\n",
        "        'layout': go.Layout(\n",
        "\n",
        "            xaxis={'title': selection1},\n",
        "\n",
        "            yaxis={'title': selection2},\n",
        "\n",
        "            margin={'l': 40, 'b': 40, 't': 10, 'r': 10},\n",
        "\n",
        "            legend={'x': 0, 'y': 1},\n",
        "\n",
        "            hovermode='closest'\n",
        "\n",
        "        )\n",
        "    }\n",
        "\n",
        "    return figure\n",
        "\n",
        "@app.callback(\n",
        "    dash.dependencies.Output('histogram1', 'figure'),\n",
        "    [dash.dependencies.Input('dd-menu-x', 'value')])\n",
        "def update_output(selection1):\n",
        "    figure = px.histogram(df, x=selection1)\n",
        "    return figure\n",
        "\n",
        "@app.callback(\n",
        "    dash.dependencies.Output('histogram2', 'figure'),\n",
        "    [dash.dependencies.Input('dd-menu-x', 'value')])\n",
        "def update_output(selection2):\n",
        "    figure = px.histogram(df, x=selection2)\n",
        "    return figure\n",
        "\n",
        "\n",
        "if __name__ == '__main__':\n",
        "    if running_in_colab:\n",
        "        app.run_server(mode=\"external\")\n",
        "    else:\n",
        "        app.run_server(debug=True)"
      ],
      "execution_count": 11,
      "outputs": [
        {
          "output_type": "stream",
          "text": [
            "Dash app running on:\n"
          ],
          "name": "stdout"
        },
        {
          "output_type": "display_data",
          "data": {
            "application/javascript": [
              "(async (port, path, text, element) => {\n",
              "    if (!google.colab.kernel.accessAllowed) {\n",
              "      return;\n",
              "    }\n",
              "    element.appendChild(document.createTextNode(''));\n",
              "    const url = await google.colab.kernel.proxyPort(port);\n",
              "    const anchor = document.createElement('a');\n",
              "    anchor.href = url + path;\n",
              "    anchor.target = '_blank';\n",
              "    anchor.setAttribute('data-href', url + path);\n",
              "    anchor.textContent = text;\n",
              "    element.appendChild(anchor);\n",
              "  })(8050, \"/\", \"http://127.0.0.1:8050/\", window.element)"
            ],
            "text/plain": [
              "<IPython.core.display.Javascript object>"
            ]
          },
          "metadata": {
            "tags": []
          }
        }
      ]
    },
    {
      "cell_type": "code",
      "metadata": {
        "id": "MNM3tgvPmPVr",
        "colab": {
          "base_uri": "https://localhost:8080/",
          "height": 135
        },
        "outputId": "135704e5-d5e7-4b43-a539-c1ce5516deaa"
      },
      "source": [
        "'dd-menu-x\n"
      ],
      "execution_count": null,
      "outputs": [
        {
          "output_type": "error",
          "ename": "SyntaxError",
          "evalue": "ignored",
          "traceback": [
            "\u001b[0;36m  File \u001b[0;32m\"<ipython-input-18-67ba20e7f650>\"\u001b[0;36m, line \u001b[0;32m1\u001b[0m\n\u001b[0;31m    'dd-menu-x\u001b[0m\n\u001b[0m              ^\u001b[0m\n\u001b[0;31mSyntaxError\u001b[0m\u001b[0;31m:\u001b[0m EOL while scanning string literal\n"
          ]
        }
      ]
    },
    {
      "cell_type": "code",
      "metadata": {
        "id": "gFwB3j3zrahN"
      },
      "source": [
        ""
      ],
      "execution_count": null,
      "outputs": []
    }
  ]
}